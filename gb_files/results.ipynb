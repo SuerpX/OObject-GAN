{
 "cells": [
  {
   "cell_type": "code",
   "execution_count": 1,
   "metadata": {},
   "outputs": [],
   "source": [
    "import torch\n",
    "import torch.nn as nn\n",
    "import torch.nn.functional as F\n",
    "import torchvision as torchv\n",
    "import numpy as np\n",
    "import mymodels\n",
    "import mycoco_small_xian as mycoco\n",
    "import torchvision.transforms as transforms\n",
    "import torch.utils.data as data\n",
    "from tensorboardX import SummaryWriter\n",
    "import torchvision.utils as vutils\n",
    "import os\n",
    "import pdb\n",
    "from models.model_AE_VGG16_2 import AE_VGG16_2 as AE_VGG16\n",
    "\n",
    "from random import randint\n",
    "os.environ[\"CUDA_VISIBLE_DEVICES\"] = \"3\"\n",
    "\n",
    "import matplotlib.pyplot as plt\n",
    "%matplotlib inline\n",
    "\n",
    "from torchvision import datasets, transforms\n",
    "from torch.autograd import Variable\n",
    "from torchvision.utils import save_image\n",
    "from torch import nn\n",
    "from copy import deepcopy\n",
    "import datetime\n",
    "import time"
   ]
  },
  {
   "cell_type": "markdown",
   "metadata": {},
   "source": [
    "# parameters"
   ]
  },
  {
   "cell_type": "code",
   "execution_count": 2,
   "metadata": {},
   "outputs": [],
   "source": [
    "param = {\"datasetClasses\": ['horse','zebra'],\n",
    "        \"check_point_path\":'./Experiments/horseandzebra/weight/last_weight.pkl',\n",
    "        \"resultCount\":10}"
   ]
  },
  {
   "cell_type": "code",
   "execution_count": 3,
   "metadata": {},
   "outputs": [],
   "source": [
    "IMAGE_SIZE = 224\n",
    "DATASET_NAMES = param[\"datasetClasses\"]\n",
    "BATCH_SIZE = 2\n",
    "cuda = torch.cuda.is_available()"
   ]
  },
  {
   "cell_type": "code",
   "execution_count": 4,
   "metadata": {},
   "outputs": [],
   "source": [
    "def create_dataset(name='train', batch_size=32):\n",
    "    dataDir='/scratch/cluster-share/linzhe/cocoDataset/'\n",
    "    dataType='%s2017'%name\n",
    "    annFile='{}/annotations/instances_{}.json'.format(dataDir,dataType)\n",
    "    root = '%s%s'%(dataDir, dataType)\n",
    "\n",
    "    normalize = transforms.Normalize(mean=[0.485, 0.456, 0.406],\n",
    "                                         std=[0.229, 0.224, 0.225])\n",
    "    trans = transforms.Compose([transforms.Resize((IMAGE_SIZE, IMAGE_SIZE)),\n",
    "                                transforms.ToTensor()])\n",
    "    target_transform = transforms.Compose([transforms.Resize((IMAGE_SIZE, IMAGE_SIZE)),\n",
    "                                           transforms.ToTensor()\n",
    "                                           ]) # normalize to be in [-1, 1]\n",
    "    coco = mycoco.CocoDetection(root, annFile, transform=trans, target_transform=target_transform, categories=DATASET_NAMES)\n",
    "    cocoloader = data.DataLoader(coco, batch_size, num_workers=4, shuffle=True)\n",
    "    \n",
    "    return cocoloader, coco"
   ]
  },
  {
   "cell_type": "code",
   "execution_count": 5,
   "metadata": {},
   "outputs": [
    {
     "name": "stdout",
     "output_type": "stream",
     "text": [
      "loading annotations into memory...\n",
      "Done (t=19.30s)\n",
      "creating index...\n",
      "index created!\n"
     ]
    },
    {
     "data": {
      "text/plain": [
       "array(['horse', 'zebra'], dtype='<U5')"
      ]
     },
     "execution_count": 5,
     "metadata": {},
     "output_type": "execute_result"
    }
   ],
   "source": [
    "cocoloader, cocoDataset = create_dataset(name='train', batch_size=BATCH_SIZE)\n",
    "np.unique(cocoDataset.categories)"
   ]
  },
  {
   "cell_type": "code",
   "execution_count": 6,
   "metadata": {},
   "outputs": [],
   "source": [
    "def get_bg_obj(image, mask):\n",
    "    obj = np.multiply(image,mask)\n",
    "    \n",
    "    bg_mask = mask.clone() - 1\n",
    "    bg_mask[bg_mask == -1] = 1\n",
    "    \n",
    "    bg = np.multiply(image,bg_mask)\n",
    "\n",
    "    if cuda:\n",
    "        bg = Variable(bg).cuda()\n",
    "        mask = Variable(mask).cuda()\n",
    "        obj = Variable(obj).cuda()\n",
    "    else:\n",
    "        bg = Variable(bg).cuda()\n",
    "        mask = Variable(mask).cuda()\n",
    "        obj = Variable(obj).cuda()\n",
    "    \n",
    "    return bg, mask, obj"
   ]
  },
  {
   "cell_type": "code",
   "execution_count": 7,
   "metadata": {},
   "outputs": [],
   "source": [
    "def swichObject(model_weight_path, image1, mask1, image2, mask2, model, pair_num):\n",
    "    \n",
    "    bg1, mask1, obj1 = get_bg_obj(image1, mask1)\n",
    "    bg2, mask2, obj2 = get_bg_obj(image2, mask2)    \n",
    "    \n",
    "    print(obj1.shape, mask2.shape)\n",
    "    _, obj2_new = model(obj1, mask2)\n",
    "    _, obj1_new = model(obj2, mask1)\n",
    "    \n",
    "    \n",
    "    #print(obj1_new.shape, bg1.shape)\n",
    "    #obj1_new *= (bg1 != 0).type(torch.cuda.FloatTensor)\n",
    "    new_image1 = bg1 + obj1_new\n",
    "    new_image2 = bg2 + obj2_new\n",
    "    \n",
    "    \n",
    "    ts = time.time()\n",
    "    st = datetime.datetime.fromtimestamp(ts).strftime('%Y-%m-%d %H:%M:%S')\n",
    "    \n",
    "    image1 = Variable(image1).cuda()\n",
    "    image2 = Variable(image2).cuda()\n",
    "        \n",
    "    output = torch.cat((image1.data, obj1.data, bg1.data, obj1_new.data, new_image1.data,\n",
    "                        image2.data, obj2.data, bg2.data, obj2_new.data, new_image2.data), dim = 0)\n",
    "    \n",
    "    print(output.shape)\n",
    "    save_image(output, './swich_result_mask/' + st + '_result_' + str(pair_num) + '.png')\n",
    "    '''\n",
    "    save_image(mask1.data, './swich_result_mask/' + st + '_mask1.png')\n",
    "    save_image(mask2.data, './swich_result_mask/' + st + '_mask2.png')\n",
    "    '''"
   ]
  },
  {
   "cell_type": "code",
   "execution_count": null,
   "metadata": {},
   "outputs": [],
   "source": []
  },
  {
   "cell_type": "code",
   "execution_count": 8,
   "metadata": {},
   "outputs": [],
   "source": [
    "def output_resilt(check_point_path, pair_num = 1):\n",
    "    model = AE_VGG16(IMAGE_SIZE)\n",
    "    #dae.load('weights_mask/dae-999.pkl')\n",
    "    #quick fix delete module to all keys\n",
    "    d2 =  {str(k)[7:]:v for k,v in torch.load(check_point_path).items()}\n",
    "    model.load_state_dict(d2)\n",
    "    model.eval().cuda()\n",
    "    \n",
    "    for j in range(pair_num):\n",
    "        for i, (images, masks) in enumerate(cocoloader):\n",
    "            image1 = images[0].view(1,images[0].shape[0],images[0].shape[1],images[0].shape[2])\n",
    "            image2 = images[1].view(1,images[0].shape[0],images[0].shape[1],images[0].shape[2])\n",
    "            mask1 = masks[0].view(1,1,images[0].shape[1],images[0].shape[2])\n",
    "            mask2 = masks[1].view(1,1,images[0].shape[1],images[0].shape[2])\n",
    "            break\n",
    "        \n",
    "        swichObject(check_point_path, image1, mask1, image2, mask2, model, j)\n"
   ]
  },
  {
   "cell_type": "code",
   "execution_count": 9,
   "metadata": {},
   "outputs": [
    {
     "name": "stdout",
     "output_type": "stream",
     "text": [
      "torch.Size([1, 3, 224, 224]) torch.Size([1, 1, 224, 224])\n",
      "torch.Size([10, 3, 224, 224])\n",
      "torch.Size([1, 3, 224, 224]) torch.Size([1, 1, 224, 224])\n",
      "torch.Size([10, 3, 224, 224])\n",
      "torch.Size([1, 3, 224, 224]) torch.Size([1, 1, 224, 224])\n",
      "torch.Size([10, 3, 224, 224])\n",
      "torch.Size([1, 3, 224, 224]) torch.Size([1, 1, 224, 224])\n",
      "torch.Size([10, 3, 224, 224])\n",
      "torch.Size([1, 3, 224, 224]) torch.Size([1, 1, 224, 224])\n",
      "torch.Size([10, 3, 224, 224])\n",
      "torch.Size([1, 3, 224, 224]) torch.Size([1, 1, 224, 224])\n",
      "torch.Size([10, 3, 224, 224])\n",
      "torch.Size([1, 3, 224, 224]) torch.Size([1, 1, 224, 224])\n",
      "torch.Size([10, 3, 224, 224])\n",
      "torch.Size([1, 3, 224, 224]) torch.Size([1, 1, 224, 224])\n",
      "torch.Size([10, 3, 224, 224])\n",
      "torch.Size([1, 3, 224, 224]) torch.Size([1, 1, 224, 224])\n",
      "torch.Size([10, 3, 224, 224])\n",
      "torch.Size([1, 3, 224, 224]) torch.Size([1, 1, 224, 224])\n",
      "torch.Size([10, 3, 224, 224])\n"
     ]
    }
   ],
   "source": [
    "output_resilt(check_point_path=param[\"check_point_path\"], pair_num=param[\"resultCount\"])"
   ]
  },
  {
   "cell_type": "code",
   "execution_count": null,
   "metadata": {},
   "outputs": [],
   "source": []
  },
  {
   "cell_type": "code",
   "execution_count": null,
   "metadata": {},
   "outputs": [],
   "source": []
  }
 ],
 "metadata": {
  "kernelspec": {
   "display_name": "Python 3",
   "language": "python",
   "name": "python3"
  },
  "language_info": {
   "codemirror_mode": {
    "name": "ipython",
    "version": 3
   },
   "file_extension": ".py",
   "mimetype": "text/x-python",
   "name": "python",
   "nbconvert_exporter": "python",
   "pygments_lexer": "ipython3",
   "version": "3.6.8"
  }
 },
 "nbformat": 4,
 "nbformat_minor": 2
}
