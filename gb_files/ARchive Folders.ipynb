{
 "cells": [
  {
   "cell_type": "markdown",
   "metadata": {},
   "source": [
    "# Archive Folders"
   ]
  },
  {
   "cell_type": "code",
   "execution_count": 1,
   "metadata": {},
   "outputs": [],
   "source": [
    "import shutil\n",
    "import errno\n",
    "import datetime\n",
    "import time\n",
    "import os\n",
    "\n",
    "def copy(src, dest):\n",
    "    try:\n",
    "        shutil.copytree(src, dest)\n",
    "    except OSError as e:\n",
    "        # If the error was caused because the source wasn't a directory\n",
    "        if e.errno == errno.ENOTDIR:\n",
    "            shutil.copy(src, dest)\n",
    "        else:\n",
    "            print('Directory not copied. Error: %s' % e)\n",
    "def archive_model(model_name, model_dirs):\n",
    "    ts = time.time()\n",
    "    st = datetime.datetime.fromtimestamp(ts).strftime('%Y-%m-%d %H:%M:%S')\n",
    "    for dir in model_dirs:\n",
    "        print(dir,\" copied\")\n",
    "        copy(dir,\"./archive/\"+model_name+st+\"/\"+dir)\n",
    "    print(\"Done\")\n",
    "    return True"
   ]
  },
  {
   "cell_type": "code",
   "execution_count": 2,
   "metadata": {},
   "outputs": [],
   "source": [
    "\n",
    "models = {\"ae\": [\"weights\",\"data\"], \n",
    "          \"mae\": [\"weights_mask\", \"data_mask\"],\n",
    "          \"maetran\": [\"weights_mask_trans\", \"data_mask_trans\"]\n",
    "         }"
   ]
  },
  {
   "cell_type": "code",
   "execution_count": 3,
   "metadata": {},
   "outputs": [
    {
     "name": "stdout",
     "output_type": "stream",
     "text": [
      "weights_mask_trans  copied\n",
      "data_mask_trans  copied\n",
      "Done\n",
      "[None, None]\n",
      "[None, None]\n"
     ]
    }
   ],
   "source": [
    "'''\n",
    "archive_model(\"masked_AE-\",models[\"mae\"])\n",
    "x = [shutil.rmtree(dir) for dir in models[\"mae\"]]\n",
    "print(x)\n",
    "x = [os.makedirs(dir) for dir in models[\"mae\"]]\n",
    "print(x)\n",
    "'''\n",
    "archive_model(\"masked_AE-\",models[\"maetran\"])\n",
    "x = [shutil.rmtree(dir) for dir in models[\"maetran\"]]\n",
    "print(x)\n",
    "x = [os.makedirs(dir) for dir in models[\"maetran\"]]\n",
    "print(x)\n"
   ]
  },
  {
   "cell_type": "code",
   "execution_count": null,
   "metadata": {},
   "outputs": [],
   "source": []
  },
  {
   "cell_type": "code",
   "execution_count": null,
   "metadata": {},
   "outputs": [],
   "source": []
  },
  {
   "cell_type": "code",
   "execution_count": null,
   "metadata": {},
   "outputs": [],
   "source": []
  }
 ],
 "metadata": {
  "kernelspec": {
   "display_name": "Python 3",
   "language": "python",
   "name": "python3"
  },
  "language_info": {
   "codemirror_mode": {
    "name": "ipython",
    "version": 3
   },
   "file_extension": ".py",
   "mimetype": "text/x-python",
   "name": "python",
   "nbconvert_exporter": "python",
   "pygments_lexer": "ipython3",
   "version": "3.6.8"
  }
 },
 "nbformat": 4,
 "nbformat_minor": 2
}
