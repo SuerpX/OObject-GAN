{
 "cells": [
  {
   "cell_type": "code",
   "execution_count": 1,
   "metadata": {},
   "outputs": [],
   "source": [
    "def replicate(img):\n",
    "    img = np.vstack((img,img))\n",
    "    img = np.vstack((img,img))\n",
    "    img = np.vstack((img,img))\n",
    "    img = np.vstack((img,img))\n",
    "    img = np.vstack((img,img))\n",
    "    img = np.vstack((img,img))\n",
    "    img = np.vstack((img,img))\n",
    "    return img"
   ]
  },
  {
   "cell_type": "code",
   "execution_count": 2,
   "metadata": {},
   "outputs": [],
   "source": [
    "import numpy as np\n",
    "one_hot_r = [0.5, 0, 0, 0]\n",
    "one_hot_g = [0, -1, 0, 0]\n",
    "one_hot_b = [0, 0, 0.25, 0]\n",
    "one_hot_y = [0, 0, 0, 0.5]\n",
    "classes = ['red', 'green', 'blue', 'yellow']\n",
    "\n",
    "img = np.full((4, 3, 64, 64),-0.9)\n",
    "for k, c in enumerate(classes):\n",
    "\n",
    "    for i in range(64):\n",
    "        for j in range(64):\n",
    "            if k == 0:\n",
    "                img[k, 0, i, j] = 0.9\n",
    "            elif k == 1:\n",
    "                img[k, 1, i, j] = 0.9\n",
    "            elif k == 2:\n",
    "                img[k, 2, i, j] = 0.9\n",
    "            elif k == 3:\n",
    "                img[k, 0, i, j] = 0.9\n",
    "                img[k, 1, i, j] = 0.9\n",
    "\n",
    "text = [\"red\",\"green\",\"blue\",\"yellow\"]\n",
    "class_ = [1,2,3,4]\n",
    "embeddings = [[1,0,0,0]+[0]*1020,\n",
    "              [0,1,0,0]+[0]*1020,\n",
    "              [0,0,1,0]+[0]*1020,\n",
    "              [0,0,0,1]+[0]*1020]\n",
    "\n",
    "img = replicate(img)\n",
    "text = replicate(text).flatten()\n",
    "class_ = replicate(class_).flatten()\n",
    "embeddings = replicate(embeddings)"
   ]
  },
  {
   "cell_type": "code",
   "execution_count": 3,
   "metadata": {},
   "outputs": [
    {
     "name": "stdout",
     "output_type": "stream",
     "text": [
      "(512, 3, 64, 64)\n",
      "(512, 1024)\n",
      "(512,)\n",
      "(512,)\n"
     ]
    }
   ],
   "source": [
    "print(img.shape)\n",
    "print(embeddings.shape)\n",
    "print(text.shape)\n",
    "print(class_.shape)"
   ]
  },
  {
   "cell_type": "code",
   "execution_count": 14,
   "metadata": {},
   "outputs": [
    {
     "name": "stdout",
     "output_type": "stream",
     "text": [
      "[[[ 0.9  0.9  0.9 ...  0.9  0.9  0.9]\n",
      "  [ 0.9  0.9  0.9 ...  0.9  0.9  0.9]\n",
      "  [ 0.9  0.9  0.9 ...  0.9  0.9  0.9]\n",
      "  ...\n",
      "  [ 0.9  0.9  0.9 ...  0.9  0.9  0.9]\n",
      "  [ 0.9  0.9  0.9 ...  0.9  0.9  0.9]\n",
      "  [ 0.9  0.9  0.9 ...  0.9  0.9  0.9]]\n",
      "\n",
      " [[-0.9 -0.9 -0.9 ... -0.9 -0.9 -0.9]\n",
      "  [-0.9 -0.9 -0.9 ... -0.9 -0.9 -0.9]\n",
      "  [-0.9 -0.9 -0.9 ... -0.9 -0.9 -0.9]\n",
      "  ...\n",
      "  [-0.9 -0.9 -0.9 ... -0.9 -0.9 -0.9]\n",
      "  [-0.9 -0.9 -0.9 ... -0.9 -0.9 -0.9]\n",
      "  [-0.9 -0.9 -0.9 ... -0.9 -0.9 -0.9]]\n",
      "\n",
      " [[-0.9 -0.9 -0.9 ... -0.9 -0.9 -0.9]\n",
      "  [-0.9 -0.9 -0.9 ... -0.9 -0.9 -0.9]\n",
      "  [-0.9 -0.9 -0.9 ... -0.9 -0.9 -0.9]\n",
      "  ...\n",
      "  [-0.9 -0.9 -0.9 ... -0.9 -0.9 -0.9]\n",
      "  [-0.9 -0.9 -0.9 ... -0.9 -0.9 -0.9]\n",
      "  [-0.9 -0.9 -0.9 ... -0.9 -0.9 -0.9]]]\n"
     ]
    }
   ],
   "source": [
    "print(img[0])"
   ]
  },
  {
   "cell_type": "code",
   "execution_count": 4,
   "metadata": {},
   "outputs": [
    {
     "name": "stdout",
     "output_type": "stream",
     "text": [
      "(512,) (512,) (512, 1024) (512, 3, 64, 64)\n"
     ]
    }
   ],
   "source": [
    "print(class_.shape, text.shape,embeddings.shape,img.shape)"
   ]
  },
  {
   "cell_type": "code",
   "execution_count": 5,
   "metadata": {},
   "outputs": [],
   "source": [
    "%matplotlib inline"
   ]
  },
  {
   "cell_type": "code",
   "execution_count": 6,
   "metadata": {},
   "outputs": [
    {
     "data": {
      "text/plain": [
       "(512, 3, 64, 64)"
      ]
     },
     "execution_count": 6,
     "metadata": {},
     "output_type": "execute_result"
    }
   ],
   "source": [
    "img.shape"
   ]
  },
  {
   "cell_type": "code",
   "execution_count": 7,
   "metadata": {},
   "outputs": [
    {
     "data": {
      "image/png": "[encoded data removed]",
      "text/plain": [
       "<Figure size 1080x1080 with 4 Axes>"
      ]
     },
     "metadata": {
      "needs_background": "light"
     },
     "output_type": "display_data"
    }
   ],
   "source": [
    "import matplotlib.pyplot as plt\n",
    "f, axarr = plt.subplots(1, 4, figsize=(15, 15)) # Grid size of 10X10 and a fig size\n",
    "f.subplots_adjust()\n",
    "for i, image in enumerate(img[0:4]):\n",
    "    axarr[i].imshow(np.swapaxes(np.swapaxes((image+1)/2,0,1),1,2))\n",
    "    axarr[i].axis('off')"
   ]
  },
  {
   "cell_type": "code",
   "execution_count": null,
   "metadata": {},
   "outputs": [],
   "source": []
  },
  {
   "cell_type": "code",
   "execution_count": 8,
   "metadata": {},
   "outputs": [],
   "source": [
    "import os\n",
    "from os.path import join, isfile\n",
    "import numpy as np\n",
    "import h5py\n",
    "from glob import glob\n",
    "# from torch.utils.serialization import load_lua\n",
    "from PIL import Image\n",
    "import yaml\n",
    "import io\n",
    "import pdb"
   ]
  },
  {
   "cell_type": "code",
   "execution_count": 9,
   "metadata": {},
   "outputs": [],
   "source": [
    "# with open('config.yaml', 'r') as f:\n",
    "# \tconfig = yaml.load(f)\n",
    "datasetDir = '/scratch/cluster-share/linzhe/text2image/flowersV8.hdf5'\n",
    "\n",
    "f = h5py.File(datasetDir, 'w')\n",
    "train = f.create_group('train')\n",
    "valid = f.create_group('valid')\n",
    "test = f.create_group('test')\n",
    "\n",
    "# for _class in sorted(os.listdir(embedding_path)):\n",
    "# \tsplit = ''\n",
    "# \tif _class in train_classes:\n",
    "# \t\tsplit = train\n",
    "# \telif _class in val_classes:\n",
    "# \t\tsplit = valid\n",
    "# \telif _class in test_classes:\n",
    "# \t\tsplit = test"
   ]
  },
  {
   "cell_type": "code",
   "execution_count": 10,
   "metadata": {},
   "outputs": [
    {
     "name": "stdout",
     "output_type": "stream",
     "text": [
      "green\n"
     ]
    }
   ],
   "source": [
    "print(text[1])"
   ]
  },
  {
   "cell_type": "code",
   "execution_count": 11,
   "metadata": {},
   "outputs": [],
   "source": [
    "\n",
    "# img = []\n",
    "\n",
    "dt = h5py.special_dtype(vlen=str)\n",
    "split = train\n",
    "\n",
    "for c, e in enumerate(embeddings):\n",
    "    ex = split.create_group('colors_'+str(c))\n",
    "    ex.create_dataset('name', data=\"colors\")\n",
    "    ex.create_dataset('img', data=np.array(img[c]))\n",
    "    ex.create_dataset('embeddings', data=e)\n",
    "    ex.create_dataset('class', data=class_[c])\n",
    "    ex.create_dataset('txt', data=str(text[c]), dtype=dt)\n",
    "# f.close()\n"
   ]
  },
  {
   "cell_type": "code",
   "execution_count": 12,
   "metadata": {},
   "outputs": [],
   "source": [
    "dt = h5py.special_dtype(vlen=str)\n",
    "split = test\n",
    "\n",
    "for c, e in enumerate(embeddings):\n",
    "    ex = split.create_group('colors_'+str(c))\n",
    "    ex.create_dataset('name', data=\"colors\")\n",
    "    ex.create_dataset('img', data=np.array(img[c]))\n",
    "    ex.create_dataset('embeddings', data=e)\n",
    "    ex.create_dataset('class', data=class_[c])\n",
    "    ex.create_dataset('txt', data=str(text[c]), dtype=dt)\n",
    "# f.close()"
   ]
  },
  {
   "cell_type": "code",
   "execution_count": 13,
   "metadata": {},
   "outputs": [],
   "source": [
    "dt = h5py.special_dtype(vlen=str)\n",
    "split = valid\n",
    "\n",
    "for c, e in enumerate(embeddings):\n",
    "    ex = split.create_group('colors_'+str(c))\n",
    "    ex.create_dataset('name', data=\"colors\")\n",
    "    ex.create_dataset('img', data=np.array(img[c]))\n",
    "    ex.create_dataset('embeddings', data=e)\n",
    "    ex.create_dataset('class', data=class_[c])\n",
    "    ex.create_dataset('txt', data=str(text[c]), dtype=dt)\n",
    "f.close()"
   ]
  },
  {
   "cell_type": "code",
   "execution_count": null,
   "metadata": {},
   "outputs": [],
   "source": []
  },
  {
   "cell_type": "code",
   "execution_count": null,
   "metadata": {},
   "outputs": [],
   "source": []
  },
  {
   "cell_type": "code",
   "execution_count": null,
   "metadata": {},
   "outputs": [],
   "source": []
  },
  {
   "cell_type": "code",
   "execution_count": null,
   "metadata": {},
   "outputs": [],
   "source": []
  },
  {
   "cell_type": "code",
   "execution_count": null,
   "metadata": {},
   "outputs": [],
   "source": []
  }
 ],
 "metadata": {
  "kernelspec": {
   "display_name": "Python 3",
   "language": "python",
   "name": "python3"
  },
  "language_info": {
   "codemirror_mode": {
    "name": "ipython",
    "version": 3
   },
   "file_extension": ".py",
   "mimetype": "text/x-python",
   "name": "python",
   "nbconvert_exporter": "python",
   "pygments_lexer": "ipython3",
   "version": "3.6.8"
  }
 },
 "nbformat": 4,
 "nbformat_minor": 2
}
